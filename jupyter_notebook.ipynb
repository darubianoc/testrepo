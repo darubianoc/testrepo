{
 "cells": [
  {
   "cell_type": "markdown",
   "id": "8b777218-28a3-4fab-bb67-8436ba47eeca",
   "metadata": {},
   "source": [
    "# My Jupyter Notebook on IBM Watson Studio"
   ]
  },
  {
   "cell_type": "markdown",
   "id": "b2ab727b-3edd-4b48-aaed-0201b325a0a6",
   "metadata": {},
   "source": [
    "**Daniel Rubiano**\n",
    "\n",
    "Financial Analyst\n",
    "\n"
   ]
  },
  {
   "cell_type": "markdown",
   "id": "ff70e3ea-2463-402e-99a4-e4ee2055d07d",
   "metadata": {},
   "source": [
    "*I am interested in data science because with data being widely available and overseen by many companies,\n",
    "useful insights can be extracted and used for business opportunities.*"
   ]
  },
  {
   "cell_type": "markdown",
   "id": "e5162cb6-2bab-4763-b7db-e74d0da678c9",
   "metadata": {},
   "source": [
    "### My code in cell 5 is supposed to operate $12 \\times 12$"
   ]
  },
  {
   "cell_type": "code",
   "execution_count": 6,
   "id": "6fd1c4d3-23e7-4830-9dd6-fbee8aa36290",
   "metadata": {},
   "outputs": [
    {
     "data": {
      "text/plain": [
       "144"
      ]
     },
     "execution_count": 6,
     "metadata": {},
     "output_type": "execute_result"
    }
   ],
   "source": [
    "12*12"
   ]
  },
  {
   "cell_type": "markdown",
   "id": "7a9c9f1b-6a69-404f-9509-878e2bf66815",
   "metadata": {},
   "source": [
    "#### Bonds\n",
    "***\n",
    "Bonds have the following characteristics\n",
    "\n",
    "* Maturity\n",
    "\n",
    "* Principal\n",
    "\n",
    "* Coupon\n",
    "\n",
    "* Yield\n",
    "\n",
    "* Price\n",
    "\n",
    "The yield curve is as follows:\n",
    "\n",
    "\n",
    "![Term Structure](https://www.investopedia.com/thmb/e9G8rNCUypBzIyky_J-E3LfoUuw=/750x0/filters:no_upscale():max_bytes(150000):strip_icc()/YieldCurve3-b41980c37e9d475f9a0c6a68b0e92688.png \"graph\")\n"
   ]
  }
 ],
 "metadata": {
  "kernelspec": {
   "display_name": "Python",
   "language": "python",
   "name": "conda-env-python-py"
  },
  "language_info": {
   "codemirror_mode": {
    "name": "ipython",
    "version": 3
   },
   "file_extension": ".py",
   "mimetype": "text/x-python",
   "name": "python",
   "nbconvert_exporter": "python",
   "pygments_lexer": "ipython3",
   "version": "3.7.12"
  }
 },
 "nbformat": 4,
 "nbformat_minor": 5
}
